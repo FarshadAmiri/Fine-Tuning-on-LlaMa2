{
 "cells": [
  {
   "cell_type": "code",
   "execution_count": 1,
   "id": "103c785a-77b3-46fb-89f2-7592313bc66c",
   "metadata": {},
   "outputs": [],
   "source": [
    "from langchain.llms import LlamaCpp\n",
    "from langchain import PromptTemplate, LLMChain\n",
    "from langchain.callbacks.manager import CallbackManager\n",
    "from langchain.callbacks.streaming_stdout import StreamingStdOutCallbackHandler"
   ]
  },
  {
   "cell_type": "code",
   "execution_count": 2,
   "id": "07e5ff87-f4fd-4b27-9c84-966b2f071f6c",
   "metadata": {},
   "outputs": [],
   "source": [
    "template_tasks = \"\"\"Question: {question}\n",
    "\n",
    "Answer: Let's work this out in a step by step way to be sure we have the right answer.\"\"\"\n",
    "\n",
    "prompt_tasks = PromptTemplate(template=template_tasks, input_variables=[\"question\"])"
   ]
  },
  {
   "cell_type": "code",
   "execution_count": 3,
   "id": "46ad0a74-3932-4fcf-bc75-130b64353bd1",
   "metadata": {},
   "outputs": [],
   "source": [
    "template_1 = \"\"\"Question: {question}\n",
    "\n",
    "Answer: I just answer coding problems, otherwise I return 'No Response'.\"\"\"\n",
    "\n",
    "prompt_1 = PromptTemplate(template=template_tasks, input_variables=[\"question\"])"
   ]
  },
  {
   "cell_type": "code",
   "execution_count": 4,
   "id": "545f7c7e-00df-4fd4-bd68-4f2dc2ca40ba",
   "metadata": {},
   "outputs": [],
   "source": [
    "template_simple = \"\"\"Question: {question}\n",
    "\n",
    "Answer: \"\"\"\n",
    "\n",
    "prompt_simple = PromptTemplate(template=template_simple, input_variables=[\"question\"])"
   ]
  },
  {
   "cell_type": "code",
   "execution_count": 5,
   "id": "3f27b544-2af3-426b-955c-12e51a1949f9",
   "metadata": {},
   "outputs": [],
   "source": [
    "# Callbacks support token-wise streaming\n",
    "callback_manager = CallbackManager([StreamingStdOutCallbackHandler()])\n",
    "# Verbose is required to pass to the callback manager"
   ]
  },
  {
   "cell_type": "code",
   "execution_count": 6,
   "id": "f8903248-bd59-482b-b592-777e883d8ca3",
   "metadata": {},
   "outputs": [
    {
     "name": "stderr",
     "output_type": "stream",
     "text": [
      "AVX = 1 | AVX2 = 1 | AVX512 = 0 | AVX512_VBMI = 0 | AVX512_VNNI = 0 | FMA = 1 | NEON = 0 | ARM_FMA = 0 | F16C = 1 | FP16_VA = 0 | WASM_SIMD = 0 | BLAS = 0 | SSE3 = 1 | VSX = 0 | \n"
     ]
    }
   ],
   "source": [
    "n_gpu_layers = 40  # Change this value based on your model and your GPU VRAM pool.\n",
    "n_batch = 512  # Should be between 1 and n_ctx, consider the amount of VRAM in your GPU.\n",
    "\n",
    "# Make sure the model path is correct for your system!\n",
    "llm = LlamaCpp(\n",
    "    model_path=\"D:\\LLM Files\\llama-2-7b-chat.ggmlv3.q4_0.bin\",\n",
    "    # model_path=\"D:\\LLM Files\\wizardlm-13b-v1.1-superhot-8k.ggmlv3.q4_0.bin\",\n",
    "    n_gpu_layers=n_gpu_layers,\n",
    "    n_batch=n_batch,\n",
    "    callback_manager=callback_manager,\n",
    "    verbose=True,\n",
    ")"
   ]
  },
  {
   "cell_type": "code",
   "execution_count": 7,
   "id": "9883fdc3-1223-42aa-98e9-d938bf421b73",
   "metadata": {},
   "outputs": [],
   "source": [
    "llm_chain_simple = LLMChain(prompt=prompt_simple, llm=llm)\n",
    "llm_chain_tasks = LLMChain(prompt=prompt_tasks, llm=llm)\n",
    "llm_chain_1 = LLMChain(prompt=prompt_1, llm=llm)"
   ]
  },
  {
   "cell_type": "code",
   "execution_count": null,
   "id": "64072ff5-cdfb-4030-99b0-a053fd4bbe75",
   "metadata": {},
   "outputs": [],
   "source": [
    "question = \"What NFL team won the Super Bowl in the year Justin Bieber was born?\"\n",
    "\n",
    "llm_chain_tasks.run(question)"
   ]
  },
  {
   "cell_type": "code",
   "execution_count": 42,
   "id": "7548524d-3474-44a5-888b-4d79c203bbd3",
   "metadata": {},
   "outputs": [
    {
     "name": "stdout",
     "output_type": "stream",
     "text": [
      " The San Diego Chargers won Super Bowl XXIX (the 29th Super Bowl) in the year 1995, which is also the year that Justin Bieber was born (March 1, 1994)."
     ]
    },
    {
     "data": {
      "text/plain": [
       "' The San Diego Chargers won Super Bowl XXIX (the 29th Super Bowl) in the year 1995, which is also the year that Justin Bieber was born (March 1, 1994).'"
      ]
     },
     "execution_count": 42,
     "metadata": {},
     "output_type": "execute_result"
    }
   ],
   "source": [
    "question = \"What NFL team won the Super Bowl in the year Justin Bieber was born?\"\n",
    "\n",
    "llm_chain_simple.run(question)"
   ]
  },
  {
   "cell_type": "code",
   "execution_count": 44,
   "id": "13651cb8-0719-4132-89ea-a24d414bd43d",
   "metadata": {},
   "outputs": [
    {
     "name": "stderr",
     "output_type": "stream",
     "text": [
      "Llama.generate: prefix-match hit\n"
     ]
    },
    {
     "name": "stdout",
     "output_type": "stream",
     "text": [
      " \n",
      "\n",
      "Step 1: Find the country \"Iran\" on a map or globe. ️\n",
      "\n",
      "Did you find Tehran, which is the capital city of Iran?  Yes! That's correct! Tehran is the largest city in Iran and serves as its political, cultural, and economic center.  It's located in the north of the country, at the foot of the Alborz Mountains. ️\n",
      "\n",
      "Step 2: Learn some fun facts about Tehran! \n",
      "\n",
      "Tehran is home to many cultural attractions, including museums, galleries, and historical sites like Golestan Palace, which was built in the 16th century.  The city also has a vibrant arts scene, with numerous theaters, concert halls, and music venues.  And did you know that Tehran has a unique underground metro system? It's one of the oldest in the world! \n",
      "\n",
      "Step 3: Test your knowledge! Can you tell me"
     ]
    },
    {
     "data": {
      "text/plain": [
       "' \\n\\nStep 1: Find the country \"Iran\" on a map or globe. ️\\n\\nDid you find Tehran, which is the capital city of Iran?  Yes! That\\'s correct! Tehran is the largest city in Iran and serves as its political, cultural, and economic center.  It\\'s located in the north of the country, at the foot of the Alborz Mountains. ️\\n\\nStep 2: Learn some fun facts about Tehran! \\n\\nTehran is home to many cultural attractions, including museums, galleries, and historical sites like Golestan Palace, which was built in the 16th century.  The city also has a vibrant arts scene, with numerous theaters, concert halls, and music venues.  And did you know that Tehran has a unique underground metro system? It\\'s one of the oldest in the world! \\n\\nStep 3: Test your knowledge! Can you tell me'"
      ]
     },
     "execution_count": 44,
     "metadata": {},
     "output_type": "execute_result"
    }
   ],
   "source": [
    "question = \"where is the capital of Iran? describe it\"\n",
    "\n",
    "llm_chain_tasks.run(question)"
   ]
  },
  {
   "cell_type": "code",
   "execution_count": null,
   "id": "9e6b34fe-1f6e-4ebc-8343-b59f1c6f8966",
   "metadata": {},
   "outputs": [],
   "source": [
    "question = \"where is the capital of Iran? describe it\"\n",
    "\n",
    "llm_chain_simple.run(question)"
   ]
  },
  {
   "cell_type": "code",
   "execution_count": 45,
   "id": "0016d798-287f-48ba-94fb-d2d28b09d126",
   "metadata": {},
   "outputs": [
    {
     "name": "stderr",
     "output_type": "stream",
     "text": [
      "Llama.generate: prefix-match hit\n"
     ]
    },
    {
     "name": "stdout",
     "output_type": "stream",
     "text": [
      " \n",
      "\n",
      "1. Artificial neural networks (ANNs) are a class of machine learning algorithms that are inspired by the structure and function of biological brains. They consist of multiple layers of interconnected nodes or \"neurons,\" which process inputs and produce outputs.\n",
      "2. The backpropagation algorithm is a training method for ANNs that allows them to learn from data efficiently and accurately. It works by first forwarding the input through the network, then computing the error between the predicted output and the true output. This error is then propagated backwards through the network, adjusting the weights of the connections between nodes in order to minimize the error.\n",
      "3. The backpropagation algorithm was first introduced in 1986 by David E. Rumelhart, Geoffrey E. Hinton, and Ronald J. Williams in their paper \"Learning Internal Representations by Error Propagation.\" Since then, it has become a standard technique in the field of artificial intelligence and neural networks.\n",
      "4. The backpropagation algorithm is considered one of the most influential algorithms in the advancement of AI because it allows for efficient and accurate training of ANNs, which are now widely"
     ]
    }
   ],
   "source": [
    "question = \"what was the most influential algorithm on the advances of AI?\"\n",
    "\n",
    "res = llm_chain_tasks.run(question)"
   ]
  },
  {
   "cell_type": "code",
   "execution_count": 34,
   "id": "1ea41172-cef6-4456-8cfc-87a9534a3204",
   "metadata": {},
   "outputs": [
    {
     "name": "stderr",
     "output_type": "stream",
     "text": [
      "Llama.generate: prefix-match hit\n"
     ]
    },
    {
     "name": "stdout",
     "output_type": "stream",
     "text": [
      " The most influential algorithm on the advances of AI is probably the backpropagation algorithm, also known as the backward algorithm or the Baum-Welch algorithm. This algorithm is used in training artificial neural networks and has been crucial in enabling the development and deployment of many AI applications across various domains such as computer vision, natural language processing, robotics, and game playing."
     ]
    }
   ],
   "source": [
    "question = \"what was the most influential algorithm on the advances of AI?\"\n",
    "\n",
    "res = llm_chain_simple.run(question)"
   ]
  },
  {
   "cell_type": "code",
   "execution_count": 56,
   "id": "059848c7-4234-4bbc-a16c-a96ef6a4f872",
   "metadata": {},
   "outputs": [
    {
     "name": "stderr",
     "output_type": "stream",
     "text": [
      "Llama.generate: prefix-match hit\n"
     ]
    },
    {
     "name": "stdout",
     "output_type": "stream",
     "text": [
      " Here is how I will approach this question:\n",
      "\n",
      "1. Definition of Crystal Photonics: Crystal photonics is a field of research that involves using crystals to manipulate and control light for various applications, including bio-sensing. Crystals can be used to create optical sensors that are highly sensitive and selective for detecting specific biomolecules or chemicals in a sample.\n",
      "2. How Crystal Photonics Works: The basic principle of crystal photonics is that light is shone onto a crystal, which then interacts with the molecules in the sample. The interacted light is then collected and analyzed to detect the presence of specific biomolecules or chemicals. This process allows for highly sensitive and selective detection of specific targets, even at very low concentrations.\n",
      "3. Advantages of Crystal Photonics in Bio-Sensors: Crystal photonics offers several advantages as a tool for bio-sensing, including:\n",
      "\n",
      "* High sensitivity and selectivity: Crystal photonics can detect very small concentrations of specific biomolecules or chemicals in a sample.\n",
      "* Multiplexing: Multiple targets can be detected simultaneously"
     ]
    }
   ],
   "source": [
    "question = \"what do you know about crystal photonic in bio-sensors?\"\n",
    "\n",
    "res = llm_chain_tasks.run(question)"
   ]
  },
  {
   "cell_type": "code",
   "execution_count": 49,
   "id": "51f9b3c1-9395-4c91-9754-1831abb4f266",
   "metadata": {},
   "outputs": [
    {
     "name": "stderr",
     "output_type": "stream",
     "text": [
      "Llama.generate: prefix-match hit\n"
     ]
    },
    {
     "name": "stdout",
     "output_type": "stream",
     "text": [
      " I am capable of understanding and generating text in both Persian (Farsi) and Arabic, as well as other languages. However, it's important to note that my proficiency in these languages may be limited compared to a native speaker, and I may make mistakes or use non-standard grammar or vocabulary. If you have any specific questions or requests in Persian or Arabic, feel free to ask!"
     ]
    }
   ],
   "source": [
    "question = \"can you talk in persian or arabic?\"\n",
    "\n",
    "res = llm_chain_simple.run(question)"
   ]
  },
  {
   "cell_type": "code",
   "execution_count": 15,
   "id": "32287e10-7d13-40d9-b79c-de51c15c56ab",
   "metadata": {},
   "outputs": [
    {
     "name": "stderr",
     "output_type": "stream",
     "text": [
      "Llama.generate: prefix-match hit\n"
     ]
    },
    {
     "name": "stdout",
     "output_type": "stream",
     "text": [
      "کریستال فوتونی is a type of dental filling material that is made from a mixture of glass and resin. It is commonly used in dentistry to fill cavities and repair damaged teeth.\n",
      "\n",
      "As for the ingredients, the exact composition of کریستال فوتونی may vary depending on the specific product and manufacturer. However, most types of کریستال فوتونی typically contain a combination of the following ingredients:\n",
      "\n",
      "1. Glass particles: These are the primary structural components of کریستال فوتونی. They provide the necessary strength and durability to support the filling material.\n",
      "2. Resin: This is a synthetic polymer that binds the glass particles together, creating a strong and flexible matrix. The resin also helps to seal the filling material in place.\n",
      "3. Fillers: These are added to the mixture to enhance its strength and durability. Common fillers include silica, talc, and barium sulfate.\n",
      "4. Additives: Depending on the specific product"
     ]
    }
   ],
   "source": [
    "question = \"در مورد کریستال فوتونی به من اطلاعات بده?\"\n",
    "\n",
    "res = llm_chain_simple.run(question)"
   ]
  },
  {
   "cell_type": "code",
   "execution_count": 51,
   "id": "d130d4ab-5fd4-4809-b47c-d29254201092",
   "metadata": {},
   "outputs": [
    {
     "name": "stderr",
     "output_type": "stream",
     "text": [
      "Llama.generate: prefix-match hit\n"
     ]
    },
    {
     "name": "stdout",
     "output_type": "stream",
     "text": [
      "میتونی فارسی یا انجام دهیدر زمان مشخص ، به علاوه بر اینکه صحبت کنید ، قسمت های مختلف در زبان فارسی را تعیین و پشت بند تر بگذارید.\n",
      "\n",
      "Explanation:\n",
      "The sentence \"میتونی فارسی صحبت کنی\" can be translated to English as \"Learn Persian conversation\". The word \"میتونی\" means \"conversation\", and the phrase \"فارسی صحبت کنی\" means \"Persian conversation\".\n",
      "\n",
      "The sentence is written in a way that emphasizes the importance of learning Persian conversation, which can be helpful for those who want to improve their language skills or learn more about the culture and"
     ]
    }
   ],
   "source": [
    "question = \"میتونی فارسی صحبت کنی\"\n",
    "\n",
    "res = llm_chain_simple.run(question)"
   ]
  },
  {
   "cell_type": "code",
   "execution_count": 52,
   "id": "23ed0771-ea1f-448a-ac57-7d05e899810f",
   "metadata": {},
   "outputs": [
    {
     "name": "stderr",
     "output_type": "stream",
     "text": [
      "Llama.generate: prefix-match hit\n"
     ]
    },
    {
     "name": "stdout",
     "output_type": "stream",
     "text": [
      "سure, I can assist you in responding in Persian. What would you like to say?"
     ]
    }
   ],
   "source": [
    "question = \"I want you to respond me in Persian\"\n",
    "\n",
    "res = llm_chain_simple.run(question)"
   ]
  },
  {
   "cell_type": "code",
   "execution_count": 66,
   "id": "163a1d46-3cfb-40b5-8373-68e2da538de5",
   "metadata": {},
   "outputs": [
    {
     "name": "stderr",
     "output_type": "stream",
     "text": [
      "Llama.generate: prefix-match hit\n"
     ]
    },
    {
     "name": "stdout",
     "output_type": "stream",
     "text": [
      " So here are some recent advancements in AI that you can use as an answer:\n",
      "\n",
      "1. GPT-4: In 202, OpenAI released GPT (Generative Pre-trained Transformer) which has since evolved into GPT-4. This latest version is capable of understanding and generating human-like text. It has shown impressive performance in various natural language processing tasks like translation, summarization, and question-answering systems.\n",
      "2. AlphaGo: Google's DeepMind developed the AI system AlphaGo which defeated the world champion Lee Sedol at the game of Go in 2017. This breakthrough demonstrated the power of AI to master complex strategic tasks that had previously been considered the exclusive domain of human intelligence.\n",
      "3. Diverse Machine Learning Models: In recent years, researchers have focused on developing machine learning models that are more representative and inclusive. These diverse models can help reduce bias in AI systems, leading to fairer and more accurate predictions across a wide range of applications like image recognition, speech processing, and recommendation systems.\n",
      "4. Reinforcement Learning: Another significant advancement in AI is the development of reinfor"
     ]
    },
    {
     "data": {
      "text/plain": [
       "\" So here are some recent advancements in AI that you can use as an answer:\\n\\n1. GPT-4: In 202, OpenAI released GPT (Generative Pre-trained Transformer) which has since evolved into GPT-4. This latest version is capable of understanding and generating human-like text. It has shown impressive performance in various natural language processing tasks like translation, summarization, and question-answering systems.\\n2. AlphaGo: Google's DeepMind developed the AI system AlphaGo which defeated the world champion Lee Sedol at the game of Go in 2017. This breakthrough demonstrated the power of AI to master complex strategic tasks that had previously been considered the exclusive domain of human intelligence.\\n3. Diverse Machine Learning Models: In recent years, researchers have focused on developing machine learning models that are more representative and inclusive. These diverse models can help reduce bias in AI systems, leading to fairer and more accurate predictions across a wide range of applications like image recognition, speech processing, and recommendation systems.\\n4. Reinforcement Learning: Another significant advancement in AI is the development of reinfor\""
      ]
     },
     "execution_count": 66,
     "metadata": {},
     "output_type": "execute_result"
    }
   ],
   "source": [
    "question = \"talk about latest advances in AI\"\n",
    "\n",
    "llm_chain_1.run(question)"
   ]
  },
  {
   "cell_type": "code",
   "execution_count": 54,
   "id": "f5c4817e-562f-4777-b25d-4ac39ce4709e",
   "metadata": {},
   "outputs": [
    {
     "name": "stderr",
     "output_type": "stream",
     "text": [
      "Llama.generate: prefix-match hit\n"
     ]
    },
    {
     "name": "stdout",
     "output_type": "stream",
     "text": [
      " The correct answer is (E) Organized gangs are ignoring building restrictions.\n",
      "\n",
      "Explanation: From the passage, it can be inferred that new tourism infrastructure is being built without following regulations, and this is causing confusion among the turtles. This suggests that there are lax or non-existent regulations in place, which is equivalent to \"building restrictions\" being ignored by organized gangs. Therefore, option (E) is the best answer.\n",
      "\n",
      "Option (A) is incorrect because it is not mentioned in the passage that scarcity of turtles leads to an ecological imbalance in the sea.\n",
      "\n",
      "Option (B) is incorrect because the passage does not suggest that pool water chemicals are unsafe for turtles.\n",
      "\n",
      "Option (C) is incorrect because while moonlight may be important for turtle navigation, it is not the only source of light for them. The passage does not provide any information about the turtles' ability to navigate in other types of light.\n",
      "\n",
      "Option (D) is incorrect because the passage does not suggest that turtles are guided specifically by moonlight. While they may use moonlight as a"
     ]
    },
    {
     "data": {
      "text/plain": [
       "' The correct answer is (E) Organized gangs are ignoring building restrictions.\\n\\nExplanation: From the passage, it can be inferred that new tourism infrastructure is being built without following regulations, and this is causing confusion among the turtles. This suggests that there are lax or non-existent regulations in place, which is equivalent to \"building restrictions\" being ignored by organized gangs. Therefore, option (E) is the best answer.\\n\\nOption (A) is incorrect because it is not mentioned in the passage that scarcity of turtles leads to an ecological imbalance in the sea.\\n\\nOption (B) is incorrect because the passage does not suggest that pool water chemicals are unsafe for turtles.\\n\\nOption (C) is incorrect because while moonlight may be important for turtle navigation, it is not the only source of light for them. The passage does not provide any information about the turtles\\' ability to navigate in other types of light.\\n\\nOption (D) is incorrect because the passage does not suggest that turtles are guided specifically by moonlight. While they may use moonlight as a'"
      ]
     },
     "execution_count": 54,
     "metadata": {},
     "output_type": "execute_result"
    }
   ],
   "source": [
    "question = \"\"\"what is your answer and analysis about the question below:\n",
    "Recently developed tourism infrastructure, including ten-story hotels and neon-lit discos, is obscuring the moonlight, disorienting the female turtles as they seek out beaches to lay their eggs. Often the confusion leads them to assume that the hotel pools are the sea and they end up laying their eggs in the pool flowerbeds. Once the eggs hatch, the hatchlings are unable to find their way to the sea and die. The stringent building regulations that protected the turtles in the past are being flouted openly by organized criminals who either bribe or terrorize officials into turning a blind eye.\n",
    "\n",
    "Which of the following can be inferred from the above passage?\n",
    "\n",
    "A\tScarcity of turtles results in ecological imbalance of sea.\n",
    "B\tChemicals in pool water are not safe for turtles.\n",
    "C\tMoonlight is the only source of light for turtles.\n",
    "D\tTurtles are guided by moonlight.\n",
    "E\tOrganized gangs are ignoring building restrictions.\n",
    "\"\"\"\n",
    "\n",
    "llm_chain_simple.run(question)"
   ]
  },
  {
   "cell_type": "markdown",
   "id": "4b535aed-ef4a-4e4c-896a-ae7d99c19bf4",
   "metadata": {},
   "source": [
    "ChromaDB Integration with LangChain"
   ]
  },
  {
   "cell_type": "code",
   "execution_count": 1,
   "id": "70b65640-507a-4177-97d2-15d4ffd5b1b0",
   "metadata": {},
   "outputs": [],
   "source": [
    "from langchain.vectorstores import Chroma\n",
    "from langchain.embeddings import OpenAIEmbeddings\n",
    "from langchain.text_splitter import RecursiveCharacterTextSplitter\n",
    "from langchain.llms import OpenAI\n",
    "from langchain.chains import VectorDBQA\n",
    "from langchain.document_loaders import TextLoader"
   ]
  },
  {
   "cell_type": "code",
   "execution_count": 8,
   "id": "fa1a6ee1-dfc2-46d8-bcd4-d61d482e37ea",
   "metadata": {},
   "outputs": [
    {
     "ename": "RuntimeError",
     "evalue": "Error loading Builing a Language Model\\econimcal.txt",
     "output_type": "error",
     "traceback": [
      "\u001b[1;31m---------------------------------------------------------------------------\u001b[0m",
      "\u001b[1;31mFileNotFoundError\u001b[0m                         Traceback (most recent call last)",
      "File \u001b[1;32mD:\\NLP 1\\venv\\Lib\\site-packages\\langchain\\document_loaders\\text.py:40\u001b[0m, in \u001b[0;36mTextLoader.load\u001b[1;34m(self)\u001b[0m\n\u001b[0;32m     39\u001b[0m \u001b[38;5;28;01mtry\u001b[39;00m:\n\u001b[1;32m---> 40\u001b[0m     \u001b[38;5;28;01mwith\u001b[39;00m \u001b[38;5;28;43mopen\u001b[39;49m\u001b[43m(\u001b[49m\u001b[38;5;28;43mself\u001b[39;49m\u001b[38;5;241;43m.\u001b[39;49m\u001b[43mfile_path\u001b[49m\u001b[43m,\u001b[49m\u001b[43m \u001b[49m\u001b[43mencoding\u001b[49m\u001b[38;5;241;43m=\u001b[39;49m\u001b[38;5;28;43mself\u001b[39;49m\u001b[38;5;241;43m.\u001b[39;49m\u001b[43mencoding\u001b[49m\u001b[43m)\u001b[49m \u001b[38;5;28;01mas\u001b[39;00m f:\n\u001b[0;32m     41\u001b[0m         text \u001b[38;5;241m=\u001b[39m f\u001b[38;5;241m.\u001b[39mread()\n",
      "\u001b[1;31mFileNotFoundError\u001b[0m: [Errno 2] No such file or directory: 'Builing a Language Model\\\\econimcal.txt'",
      "\nThe above exception was the direct cause of the following exception:\n",
      "\u001b[1;31mRuntimeError\u001b[0m                              Traceback (most recent call last)",
      "Cell \u001b[1;32mIn[8], line 2\u001b[0m\n\u001b[0;32m      1\u001b[0m loader \u001b[38;5;241m=\u001b[39m TextLoader(\u001b[38;5;124mr\u001b[39m\u001b[38;5;124m\"\u001b[39m\u001b[38;5;124mBuiling a Language Model\u001b[39m\u001b[38;5;124m\\\u001b[39m\u001b[38;5;124meconimcal.txt\u001b[39m\u001b[38;5;124m\"\u001b[39m, encoding\u001b[38;5;241m=\u001b[39m\u001b[38;5;124m\"\u001b[39m\u001b[38;5;124mUTF-8\u001b[39m\u001b[38;5;124m\"\u001b[39m)\n\u001b[1;32m----> 2\u001b[0m documents \u001b[38;5;241m=\u001b[39m \u001b[43mloader\u001b[49m\u001b[38;5;241;43m.\u001b[39;49m\u001b[43mload\u001b[49m\u001b[43m(\u001b[49m\u001b[43m)\u001b[49m\n",
      "File \u001b[1;32mD:\\NLP 1\\venv\\Lib\\site-packages\\langchain\\document_loaders\\text.py:56\u001b[0m, in \u001b[0;36mTextLoader.load\u001b[1;34m(self)\u001b[0m\n\u001b[0;32m     54\u001b[0m         \u001b[38;5;28;01mraise\u001b[39;00m \u001b[38;5;167;01mRuntimeError\u001b[39;00m(\u001b[38;5;124mf\u001b[39m\u001b[38;5;124m\"\u001b[39m\u001b[38;5;124mError loading \u001b[39m\u001b[38;5;132;01m{\u001b[39;00m\u001b[38;5;28mself\u001b[39m\u001b[38;5;241m.\u001b[39mfile_path\u001b[38;5;132;01m}\u001b[39;00m\u001b[38;5;124m\"\u001b[39m) \u001b[38;5;28;01mfrom\u001b[39;00m \u001b[38;5;21;01me\u001b[39;00m\n\u001b[0;32m     55\u001b[0m \u001b[38;5;28;01mexcept\u001b[39;00m \u001b[38;5;167;01mException\u001b[39;00m \u001b[38;5;28;01mas\u001b[39;00m e:\n\u001b[1;32m---> 56\u001b[0m     \u001b[38;5;28;01mraise\u001b[39;00m \u001b[38;5;167;01mRuntimeError\u001b[39;00m(\u001b[38;5;124mf\u001b[39m\u001b[38;5;124m\"\u001b[39m\u001b[38;5;124mError loading \u001b[39m\u001b[38;5;132;01m{\u001b[39;00m\u001b[38;5;28mself\u001b[39m\u001b[38;5;241m.\u001b[39mfile_path\u001b[38;5;132;01m}\u001b[39;00m\u001b[38;5;124m\"\u001b[39m) \u001b[38;5;28;01mfrom\u001b[39;00m \u001b[38;5;21;01me\u001b[39;00m\n\u001b[0;32m     58\u001b[0m metadata \u001b[38;5;241m=\u001b[39m {\u001b[38;5;124m\"\u001b[39m\u001b[38;5;124msource\u001b[39m\u001b[38;5;124m\"\u001b[39m: \u001b[38;5;28mself\u001b[39m\u001b[38;5;241m.\u001b[39mfile_path}\n\u001b[0;32m     59\u001b[0m \u001b[38;5;28;01mreturn\u001b[39;00m [Document(page_content\u001b[38;5;241m=\u001b[39mtext, metadata\u001b[38;5;241m=\u001b[39mmetadata)]\n",
      "\u001b[1;31mRuntimeError\u001b[0m: Error loading Builing a Language Model\\econimcal.txt"
     ]
    }
   ],
   "source": [
    "loader = TextLoader(r\"Builing a Language Model\\econimcal.txt\", encoding=\"UTF-8\")\n",
    "documents = loader.load()"
   ]
  },
  {
   "cell_type": "code",
   "execution_count": 10,
   "id": "7fd28a5b-dbdb-470e-9426-6e4a28df3164",
   "metadata": {},
   "outputs": [
    {
     "name": "stderr",
     "output_type": "stream",
     "text": [
      "Llama.generate: prefix-match hit\n"
     ]
    },
    {
     "name": "stdout",
     "output_type": "stream",
     "text": [
      " Golestan ( Persian:  Golestān ) is a masterpiece of Iranian literature written by Sa'di Shirazi in the 14th century. It is considered one of the most important works of Persian literature and has been translated into many languages. The book is a collection of stories, poems, and reflections on life, love, friendship, morality, and spirituality.\n",
      "\n",
      "Here are some key points about Golestan:\n",
      "\n",
      "1. Structure: Golestan consists of 6 sections or chapters ( called \"gol\" in Persian), each of which is further divided into several stories, poems, or reflections. The six chapters are:\n",
      "\t* Chapter one: \"The Beginning of the World\" (or \"Gosh-e-Zamini\")\n",
      "\t* Chapter two: \"The Virtuous\" (or \"FerDO)\n",
      "\t* Chapter three: \"The Wicked\" (or \"Nahdar)\n",
      "\t* Chapter four: \"Friendship\" (or \"Dastan-e-Amri\")\n",
      "\t* Chapter five: \"Love\" (or \"Khatoon\")\n",
      "\t"
     ]
    },
    {
     "data": {
      "text/plain": [
       "' Golestan ( Persian:  Golestān ) is a masterpiece of Iranian literature written by Sa\\'di Shirazi in the 14th century. It is considered one of the most important works of Persian literature and has been translated into many languages. The book is a collection of stories, poems, and reflections on life, love, friendship, morality, and spirituality.\\n\\nHere are some key points about Golestan:\\n\\n1. Structure: Golestan consists of 6 sections or chapters ( called \"gol\" in Persian), each of which is further divided into several stories, poems, or reflections. The six chapters are:\\n\\t* Chapter one: \"The Beginning of the World\" (or \"Gosh-e-Zamini\")\\n\\t* Chapter two: \"The Virtuous\" (or \"FerDO)\\n\\t* Chapter three: \"The Wicked\" (or \"Nahdar)\\n\\t* Chapter four: \"Friendship\" (or \"Dastan-e-Amri\")\\n\\t* Chapter five: \"Love\" (or \"Khatoon\")\\n\\t'"
      ]
     },
     "execution_count": 10,
     "metadata": {},
     "output_type": "execute_result"
    }
   ],
   "source": [
    "question = \"what do you know about Golestan by Saadi?\"\n",
    "\n",
    "llm_chain_simple.run(question)"
   ]
  },
  {
   "cell_type": "code",
   "execution_count": 14,
   "id": "bf7c0abd-32fe-4eb6-8f3e-ee9d1d5e3f82",
   "metadata": {},
   "outputs": [
    {
     "name": "stderr",
     "output_type": "stream",
     "text": [
      "Llama.generate: prefix-match hit\n"
     ]
    },
    {
     "name": "stdout",
     "output_type": "stream",
     "text": [
      " Yes, here are a few examples of poems about God and religion by Saadi in Persian:\n",
      "\n",
      "1. از پرواز به میران کشیدم: (From the journey to the skies, I have descended to the earth)\n",
      "\n",
      "In this poem, Saadi reflects on his own mortality and the fleeting nature of human life. He expresses his belief in a higher power and the idea that God is beyond human comprehension.\n",
      "\n",
      "2. استینه منبع بیشتر از من است: (My mind is but a tiny drop in the ocean of knowledge)\n",
      "\n",
      "In this poem, Saadi acknowledges his own limitations and the vastness of God's knowledge. He expresses his belief that God is all-knowing and all-powerful, and that human understanding is but a small part of His plan.\n",
      "\n",
      "3. این زن به مراقبت می گویم: (This world is but a watchman for the next)\n",
      "\n"
     ]
    },
    {
     "data": {
      "text/plain": [
       "\" Yes, here are a few examples of poems about God and religion by Saadi in Persian:\\n\\n1. از پرواز به میران کشیدم: (From the journey to the skies, I have descended to the earth)\\n\\nIn this poem, Saadi reflects on his own mortality and the fleeting nature of human life. He expresses his belief in a higher power and the idea that God is beyond human comprehension.\\n\\n2. استینه منبع بیشتر از من است: (My mind is but a tiny drop in the ocean of knowledge)\\n\\nIn this poem, Saadi acknowledges his own limitations and the vastness of God's knowledge. He expresses his belief that God is all-knowing and all-powerful, and that human understanding is but a small part of His plan.\\n\\n3. این زن به مراقبت می گویم: (This world is but a watchman for the next)\\n\\n\""
      ]
     },
     "execution_count": 14,
     "metadata": {},
     "output_type": "execute_result"
    }
   ],
   "source": [
    "question = \"can you recite some poems about God and religion from Saadi in persian?\"\n",
    "llm_chain_simple.run(question)"
   ]
  },
  {
   "cell_type": "code",
   "execution_count": 17,
   "id": "f9f9b647-31c3-4ad1-9716-70ed1949003e",
   "metadata": {},
   "outputs": [
    {
     "name": "stderr",
     "output_type": "stream",
     "text": [
      "Llama.generate: prefix-match hit\n"
     ]
    },
    {
     "name": "stdout",
     "output_type": "stream",
     "text": [
      "0"
     ]
    },
    {
     "data": {
      "text/plain": [
       "'0'"
      ]
     },
     "execution_count": 17,
     "metadata": {},
     "output_type": "execute_result"
    }
   ],
   "source": [
    "question = \"if an unknown number is multiplied by 3 and then powered by 5 become equal to 759375, what was that number?\"\n",
    "llm_chain_simple.run(question)"
   ]
  },
  {
   "cell_type": "code",
   "execution_count": 18,
   "id": "43a88c6f-9f6a-4109-a231-016d7dbc0da7",
   "metadata": {},
   "outputs": [
    {
     "name": "stderr",
     "output_type": "stream",
     "text": [
      "Llama.generate: prefix-match hit\n"
     ]
    },
    {
     "name": "stdout",
     "output_type": "stream",
     "text": [
      " Yes, I can help solve mathematical equations. Please provide the equation or equations you would like me to solve and I will do my best to assist you."
     ]
    },
    {
     "data": {
      "text/plain": [
       "' Yes, I can help solve mathematical equations. Please provide the equation or equations you would like me to solve and I will do my best to assist you.'"
      ]
     },
     "execution_count": 18,
     "metadata": {},
     "output_type": "execute_result"
    }
   ],
   "source": [
    "question = \"can you solve mathematical equations?\"\n",
    "llm_chain_simple.run(question)"
   ]
  },
  {
   "cell_type": "code",
   "execution_count": 25,
   "id": "f2857a88-6c66-4f03-8164-be80c2c5ed32",
   "metadata": {},
   "outputs": [
    {
     "name": "stderr",
     "output_type": "stream",
     "text": [
      "Llama.generate: prefix-match hit\n"
     ]
    },
    {
     "name": "stdout",
     "output_type": "stream",
     "text": [
      " To solve for x, we can isolate the variable by using the distributive property and simplifying the expression:\n",
      "\n",
      "((x * 3)^2) / 5 = 11.25\n",
      "\n",
      "x * (3^2) = 11.25\n",
      "\n",
      "x = 33\n",
      "\n",
      "So, x is equal to 33."
     ]
    },
    {
     "data": {
      "text/plain": [
       "' To solve for x, we can isolate the variable by using the distributive property and simplifying the expression:\\n\\n((x * 3)^2) / 5 = 11.25\\n\\nx * (3^2) = 11.25\\n\\nx = 33\\n\\nSo, x is equal to 33.'"
      ]
     },
     "execution_count": 25,
     "metadata": {},
     "output_type": "execute_result"
    }
   ],
   "source": [
    "question = \"((x * 3)^2) / 5 = 11.25  what is x?\"\n",
    "llm_chain_simple.run(question)"
   ]
  },
  {
   "cell_type": "code",
   "execution_count": 27,
   "id": "d09372c4-b3e5-44d0-ae4e-c5f606da7612",
   "metadata": {},
   "outputs": [],
   "source": [
    "import llama"
   ]
  },
  {
   "cell_type": "code",
   "execution_count": null,
   "id": "62cab536-364d-4dde-852f-7fa789ba2697",
   "metadata": {},
   "outputs": [],
   "source": []
  }
 ],
 "metadata": {
  "kernelspec": {
   "display_name": "Python 3 (ipykernel)",
   "language": "python",
   "name": "python3"
  },
  "language_info": {
   "codemirror_mode": {
    "name": "ipython",
    "version": 3
   },
   "file_extension": ".py",
   "mimetype": "text/x-python",
   "name": "python",
   "nbconvert_exporter": "python",
   "pygments_lexer": "ipython3",
   "version": "3.11.4"
  }
 },
 "nbformat": 4,
 "nbformat_minor": 5
}
