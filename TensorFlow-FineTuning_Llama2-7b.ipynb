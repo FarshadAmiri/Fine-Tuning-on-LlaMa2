{
 "cells": [
  {
   "cell_type": "markdown",
   "id": "950b6393-34e0-48fe-b75d-5f073650d8d0",
   "metadata": {},
   "source": [
    "# Preparing Dataset for Fine-Tuning"
   ]
  },
  {
   "cell_type": "markdown",
   "id": "8397490d-7d4d-42a5-a82c-6cd72e614405",
   "metadata": {},
   "source": [
    "Provide a Json file containing question and answer pairs; like this:"
   ]
  },
  {
   "cell_type": "markdown",
   "id": "5b931e06-93db-4b56-ba16-2c7856d2fd72",
   "metadata": {},
   "source": [
    "{\"question\": \"what is the use case of LLM for Hospital\", \"answer\": \"The use case of LLM (Language Model for hospital) can have several applications in a hospital setting\"}\n",
    "{\"question\": \"How is AI being used in medical industries?\", \"answer\"A:\" AI is being used in medical industries for various purposes such as disease diagnosi\"}e\"}"
   ]
  },
  {
   "cell_type": "code",
   "execution_count": null,
   "id": "137cc1d2-fcd0-41da-a7d6-7bd68bf03909",
   "metadata": {},
   "outputs": [],
   "source": []
  }
 ],
 "metadata": {
  "kernelspec": {
   "display_name": "Python 3 (ipykernel)",
   "language": "python",
   "name": "python3"
  },
  "language_info": {
   "codemirror_mode": {
    "name": "ipython",
    "version": 3
   },
   "file_extension": ".py",
   "mimetype": "text/x-python",
   "name": "python",
   "nbconvert_exporter": "python",
   "pygments_lexer": "ipython3",
   "version": "3.11.4"
  }
 },
 "nbformat": 4,
 "nbformat_minor": 5
}
